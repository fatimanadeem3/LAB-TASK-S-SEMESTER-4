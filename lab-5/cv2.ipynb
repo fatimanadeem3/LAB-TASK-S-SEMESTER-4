{
 "cells": [
  {
   "cell_type": "code",
   "execution_count": null,
   "metadata": {},
   "outputs": [],
   "source": [
    "import cv2\n",
    "\n",
    "img = cv2.imread(\"/Users/fajarfatima/Desktop/PAI_LAB/pic1.png\")  # Load image\n",
    "\n",
    "if img is None:\n",
    "    print(\"Error: Image not found or could not be loaded.\")\n",
    "else:\n",
    "    cv2.imshow(\"Image\", img)\n",
    "    cv2.waitKey()\n",
    "    cv2.destroyAllWindows()\n"
   ]
  },
  {
   "cell_type": "code",
   "execution_count": null,
   "metadata": {},
   "outputs": [],
   "source": [
    "#import cv2, numpy and matplotlib libraries\n",
    "import cv2\n",
    "import numpy as np\n",
    "import matplotlib.pyplot as plt\n",
    "img=cv2.imread(\"/Users/fajarfatima/Desktop/PAI_LAB/pic1.png\")\n",
    "plt.imshow(img)\n",
    "\n",
    "#plt.waitforbuttonpress()\n",
    "#plt.close('all')\n",
    "\n",
    "\n"
   ]
  },
  {
   "cell_type": "code",
   "execution_count": null,
   "metadata": {},
   "outputs": [],
   "source": [
    "#import cv2, numpy and matplotlib libraries\n",
    "import cv2\n",
    "import numpy as np\n",
    "import matplotlib.pyplot as plt\n",
    "img=cv2.imread(\"/Users/fajarfatima/Desktop/PAI_LAB/pic1.png\")\n",
    "\n",
    "# Converting BGR color to RGB color format\n",
    "RGB_img = cv2.cvtColor(img, cv2.COLOR_BGR2RGB)\n",
    "\n",
    "#Displaying image using plt.imshow() method\n",
    "plt.imshow(RGB_img)\n",
    "\n",
    "# hold the window\n",
    "# plt.waitforbuttonpress()\n",
    "# plt.close('all')\n"
   ]
  },
  {
   "cell_type": "code",
   "execution_count": 1,
   "metadata": {},
   "outputs": [],
   "source": [
    "# Python program to explain cv2.imread() method \n",
    "\n",
    "# importing cv2 \n",
    "import cv2 \n",
    "\n",
    "# path \n",
    "path = r'/Users/fajarfatima/Desktop/PAI_LAB/pic2.png'\n",
    "\n",
    "# Using cv2.imread() method \n",
    "# Using 0 to read image in grayscale mode \n",
    "img = cv2.imread(path, cv2.IMREAD_GRAYSCALE) \n",
    "\n",
    "\n",
    "cv2.imshow(\"Image\", img)\n",
    "cv2.waitKey(0)\n",
    "cv2.destroyAllWindows()"
   ]
  },
  {
   "cell_type": "code",
   "execution_count": 1,
   "metadata": {},
   "outputs": [
    {
     "name": "stdout",
     "output_type": "stream",
     "text": [
      "Before saving image:\n",
      "['pic8.png', '2.1.png', 'pic1.png', 'water_jug_problem.py', 'pic3.png', 'pic2.png', '2.1.1.png', 'pic6.jpg', 'pic7.png', '2.1.2.jpg', 'pic4.jpg', 'savedImage.jpg', 'venv']\n",
      "After saving image:\n",
      "['pic8.png', '2.1.png', 'pic1.png', 'water_jug_problem.py', 'pic3.png', 'pic2.png', '2.1.1.png', 'pic6.jpg', 'pic7.png', '2.1.2.jpg', 'pic4.jpg', 'savedImage.jpg', 'venv']\n",
      "Successfully saved\n"
     ]
    }
   ],
   "source": [
    "# Python program to explain cv2.imwrite() method\n",
    "\n",
    "# importing cv2 \n",
    "import cv2\n",
    "\n",
    "# importing os module  \n",
    "import os\n",
    "\n",
    "# Image path\n",
    "image_path = r'/Users/fajarfatima/Desktop/PAI_LAB/pic2.png'\n",
    "\n",
    "# Image directory\n",
    "directory = r'/Users/fajarfatima/Desktop/PAI_LAB'\n",
    "\n",
    "# Using cv2.imread() method\n",
    "# to read the image\n",
    "img = cv2.imread(image_path)\n",
    "\n",
    "# Change the current directory \n",
    "# to specified directory \n",
    "os.chdir(directory)\n",
    "\n",
    "# List files and directories  \n",
    "# in 'C:/Users/Rajnish/Desktop/GeeksforGeeks'  \n",
    "print(\"Before saving image:\")  \n",
    "print(os.listdir(directory))  \n",
    "\n",
    "# Filename\n",
    "filename = 'savedImage.jpg'\n",
    "\n",
    "# Using cv2.imwrite() method\n",
    "# Saving the image\n",
    "cv2.imwrite(filename, img)\n",
    "\n",
    "# List files and directories  \n",
    "# in 'C:/Users / Rajnish / Desktop / GeeksforGeeks'  \n",
    "print(\"After saving image:\")  \n",
    "print(os.listdir(directory))\n",
    "\n",
    "print('Successfully saved')\n"
   ]
  },
  {
   "cell_type": "code",
   "execution_count": 2,
   "metadata": {},
   "outputs": [
    {
     "ename": "",
     "evalue": "",
     "output_type": "error",
     "traceback": [
      "\u001b[1;31mThe Kernel crashed while executing code in the the current cell or a previous cell. Please review the code in the cell(s) to identify a possible cause of the failure. Click <a href='https://aka.ms/vscodeJupyterKernelCrash'>here</a> for more info. View Jupyter <a href='command:jupyter.viewOutput'>log</a> for further details."
     ]
    }
   ],
   "source": [
    "import cv2 \n",
    "\n",
    "image = cv2.imread('/Users/fajarfatima/Desktop/PAI_LAB/pic3.png') \n",
    "B, G, R = cv2.split(image) \n",
    "# Corresponding channels are separated \n",
    "\n",
    "cv2.imshow(\"original\", image) \n",
    "cv2.waitKey(0) \n",
    "\n",
    "cv2.imshow(\"blue\", B) \n",
    "cv2.waitKey(0) \n",
    "\n",
    "cv2.imshow(\"Green\", G) \n",
    "cv2.waitKey(0) \n",
    "\n",
    "cv2.imshow(\"red\", R) \n",
    "cv2.waitKey(0) \n",
    "\n",
    "cv2.destroyAllWindows() \n"
   ]
  },
  {
   "cell_type": "code",
   "execution_count": 1,
   "metadata": {},
   "outputs": [],
   "source": [
    "# Python program to illustrate \n",
    "# arithmetic operation of \n",
    "# addition of two images \n",
    "\t\n",
    "# organizing imports \n",
    "import cv2 \n",
    "import numpy as np \n",
    "\t\n",
    "# path to input images are specified and \n",
    "# images are loaded with imread command \n",
    "image1 = cv2.imread('/Users/fajarfatima/Desktop/PAI_LAB/pic4.jpg') \n",
    "image2 = cv2.imread('/Users/fajarfatima/Desktop/PAI_LAB/pic6.jpg') \n",
    "\n",
    "# cv2.addWeighted is applied over the \n",
    "# image inputs with applied parameters \n",
    "weightedSum = cv2.addWeighted(image1, 0.5, image2, 0.4, 0) \n",
    "\n",
    "# the window showing output image \n",
    "# with the weighted sum \n",
    "cv2.imshow('Weighted Image', weightedSum) \n",
    "\n",
    "# De-allocate any associated memory usage \n",
    "if cv2.waitKey(0) & 0xff == 27: \n",
    "\tcv2.destroyAllWindows() \n"
   ]
  },
  {
   "cell_type": "code",
   "execution_count": 1,
   "metadata": {},
   "outputs": [],
   "source": [
    "# Python program to illustrate \n",
    "# arithmetic operation of \n",
    "# subtraction of pixels of two images \n",
    "\n",
    "# organizing imports \n",
    "import cv2 \n",
    "import numpy as np \n",
    "\t\n",
    "# path to input images are specified and \n",
    "# images are loaded with imread command \n",
    "image1 = cv2.imread('/Users/fajarfatima/Desktop/PAI_LAB/pic4.jpg') \n",
    "image2 = cv2.imread('/Users/fajarfatima/Desktop/PAI_LAB/pic6.jpg') \n",
    "# cv2.subtract is applied over the \n",
    "# image inputs with applied parameters \n",
    "sub = cv2.subtract(image1, image2) \n",
    "\n",
    "# the window showing output image \n",
    "# with the subtracted image \n",
    "cv2.imshow('Subtracted Image', sub) \n",
    "\n",
    "# De-allocate any associated memory usage \n",
    "if cv2.waitKey(0) & 0xff == 27: \n",
    "\tcv2.destroyAllWindows()\n"
   ]
  },
  {
   "cell_type": "code",
   "execution_count": null,
   "metadata": {},
   "outputs": [],
   "source": [
    "# Python program to illustrate \n",
    "# arithmetic operation of \n",
    "# bitwise AND of two images \n",
    "\t\n",
    "# organizing imports \n",
    "import cv2 \n",
    "import numpy as np \n",
    "\t\n",
    "# path to input images are specified and \n",
    "# images are loaded with imread command \n",
    "img1 = cv2.imread('/Users/fajarfatima/Desktop/PAI_LAB/pic7.png') \n",
    "img2 = cv2.imread('/Users/fajarfatima/Desktop/PAI_LAB/pic8.png') \n",
    "\n",
    "# cv2.bitwise_and is applied over the \n",
    "# image inputs with applied parameters \n",
    "dest_and = cv2.bitwise_and(img2, img1, mask = None) \n",
    "\n",
    "# the window showing output image \n",
    "# with the Bitwise AND operation \n",
    "# on the input images \n",
    "cv2.imshow('Bitwise And', dest_and) \n",
    "\n",
    "# De-allocate any associated memory usage \n",
    "cv2.waitKey(0)  # Wait for any key press\n",
    "cv2.destroyAllWindows()  # Close all windows\n",
    "\n",
    "cv2.waitKey(1)  # Small delay to ensure windows close properly\n"
   ]
  }
 ],
 "metadata": {
  "kernelspec": {
   "display_name": "venv",
   "language": "python",
   "name": "python3"
  },
  "language_info": {
   "codemirror_mode": {
    "name": "ipython",
    "version": 3
   },
   "file_extension": ".py",
   "mimetype": "text/x-python",
   "name": "python",
   "nbconvert_exporter": "python",
   "pygments_lexer": "ipython3",
   "version": "3.12.0"
  }
 },
 "nbformat": 4,
 "nbformat_minor": 2
}
