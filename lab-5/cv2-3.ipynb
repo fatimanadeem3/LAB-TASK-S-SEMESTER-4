{
 "cells": [
  {
   "cell_type": "code",
   "execution_count": null,
   "metadata": {},
   "outputs": [],
   "source": [
    "# importing libraries\n",
    "import cv2\n",
    "\n",
    "# Create a VideoCapture object and read from input file\n",
    "cap = cv2.VideoCapture('/Users/fajarfatima/Desktop/1.mp4')\n",
    "\n",
    "# Check if camera opened successfully\n",
    "if (cap.isOpened()== False):\n",
    "    print(\"Error opening video file\")\n",
    "\n",
    "# Read until video is completed\n",
    "while(cap.isOpened()):\n",
    "    \n",
    "# Capture frame-by-frame\n",
    "    ret, frame = cap.read()\n",
    "    if ret == True:\n",
    "    # Display the resulting frame\n",
    "        cv2.imshow('Frame', frame)\n",
    "        \n",
    "    # Press Q on keyboard to exit\n",
    "        if cv2.waitKey(25) & 0xFF == ord('q'):\n",
    "            break\n",
    "\n",
    "# Break the loop\n",
    "    else:\n",
    "        break\n",
    "\n",
    "# When everything done, release\n",
    "# the video capture object\n",
    "cap.release()\n",
    "\n",
    "# Closes all the frames\n",
    "cv2.destroyAllWindows()\n"
   ]
  },
  {
   "cell_type": "code",
   "execution_count": 11,
   "metadata": {},
   "outputs": [
    {
     "name": "stdout",
     "output_type": "stream",
     "text": [
      "Number of Images: 3\n"
     ]
    }
   ],
   "source": [
    "import os\n",
    "import cv2\n",
    "from PIL import Image\n",
    "\n",
    "# path to the Google Drive folder with images\n",
    "path = \"/Users/fajarfatima/Desktop/PAI_LAB\"\n",
    "os.chdir(path)\n",
    "\n",
    "mean_height = 0\n",
    "mean_width = 0\n",
    "\n",
    "# Counting the number of images in the directory\n",
    "num_of_images = len([file for file in os.listdir('.') if file.endswith((\".jpg\", \".jpeg\", \".png\"))])\n",
    "print(\"Number of Images:\", num_of_images)\n"
   ]
  },
  {
   "cell_type": "code",
   "execution_count": 12,
   "metadata": {},
   "outputs": [
    {
     "name": "stdout",
     "output_type": "stream",
     "text": [
      "Images: ['coin-detection.jpg', '8.jpeg', '6.jpg']\n"
     ]
    },
    {
     "name": "stderr",
     "output_type": "stream",
     "text": [
      "[ WARN:0@505.952] global cap.cpp:781 open VIDEOIO(CV_IMAGES): raised OpenCV exception:\n",
      "\n",
      "OpenCV(4.11.0) /private/var/folders/0v/5crpymp177174bw290l3z_ph0000gn/T/pip-install-9ciwp9yj/opencv-python_208eba03584f4e2ba0f5ce3081fd0064/opencv/modules/videoio/src/cap_images.cpp:415: error: (-215:Assertion failed) !filename_pattern.empty() in function 'CvVideoWriter_Images'\n",
      "\n",
      "\n"
     ]
    },
    {
     "name": "stdout",
     "output_type": "stream",
     "text": [
      "Video generated successfully!\n"
     ]
    }
   ],
   "source": [
    "# Function to generate video\n",
    "def generate_video():\n",
    "    image_folder = path\n",
    "    video_name = 'mygeneratedvideo.avi'\n",
    "\n",
    "    images = [img for img in os.listdir(image_folder) if img.endswith((\".jpg\", \".jpeg\", \".png\"))]\n",
    "    print(\"Images:\", images)\n",
    "\n",
    "    # Set frame from the first image\n",
    "    frame = cv2.imread(os.path.join(image_folder, images[0]))\n",
    "    height, width, layers = frame.shape\n",
    "\n",
    "    # Video writer to create .avi file\n",
    "    video = cv2.VideoWriter(video_name, cv2.VideoWriter_fourcc(*'DIVX'), 1, (width, height))\n",
    "\n",
    "    # Appending images to video\n",
    "    for image in images:\n",
    "        video.write(cv2.imread(os.path.join(image_folder, image)))\n",
    "\n",
    "    # Release the video file\n",
    "    video.release()\n",
    "    cv2.destroyAllWindows()\n",
    "    print(\"Video generated successfully!\")\n",
    "\n",
    "# Calling the function to generate the video\n",
    "generate_video()\n"
   ]
  },
  {
   "cell_type": "code",
   "execution_count": null,
   "metadata": {},
   "outputs": [],
   "source": [
    "# Importing all necessary libraries \n",
    "import cv2 \n",
    "import os \n",
    "\n",
    "# Read the video from specified path \n",
    "cam = cv2.VideoCapture(\"/Users/fajarfatima/Desktop/1.mp4\") \n",
    "\n",
    "try: \n",
    "\t\n",
    "\t# creating a folder named data \n",
    "\tif not os.path.exists('data'): \n",
    "\t\tos.makedirs('data') \n",
    "\n",
    "# if not created then raise error \n",
    "except OSError: \n",
    "\tprint ('Error: Creating directory of data') \n",
    "\n",
    "# frame \n",
    "currentframe = 0\n",
    "\n",
    "while(True): \n",
    "\t\n",
    "\t# reading from frame \n",
    "\tret,frame = cam.read() \n",
    "\n",
    "\tif ret: \n",
    "\t\t# if video is still left continue creating images \n",
    "\t\tname = './data/frame' + str(currentframe) + '.jpg'\n",
    "\t\tprint ('Creating...' + name) \n",
    "\n",
    "\t\t# writing the extracted images \n",
    "\t\tcv2.imwrite(name, frame) \n",
    "\n",
    "\t\t# increasing counter so that it will \n",
    "\t\t# show how many frames are created \n",
    "\t\tcurrentframe += 1\n",
    "\telse: \n",
    "\t\tbreak\n",
    "\n",
    "# Release all space and windows once done \n",
    "cam.release() \n",
    "cv2.destroyAllWindows() \n"
   ]
  },
  {
   "cell_type": "code",
   "execution_count": 10,
   "metadata": {},
   "outputs": [
    {
     "name": "stdout",
     "output_type": "stream",
     "text": [
      "coin-detection.jpg is resized\n",
      "8.jpeg is resized\n",
      "6.jpg is resized\n"
     ]
    }
   ],
   "source": [
    "# Calculating the mean width and height of all images\n",
    "for file in os.listdir('.'):\n",
    "    if file.endswith(\".jpg\") or file.endswith(\".jpeg\") or file.endswith(\"png\"):\n",
    "        im = Image.open(os.path.join(path, file))\n",
    "        width, height = im.size\n",
    "        mean_width += width\n",
    "        mean_height += height\n",
    "\n",
    "# Averaging width and height\n",
    "mean_width = int(mean_width / num_of_images)\n",
    "mean_height = int(mean_height / num_of_images)\n",
    "\n",
    "# Resizing all images to the mean width and height\n",
    "for file in os.listdir('.'):\n",
    "    if file.endswith(\".jpg\") or file.endswith(\".jpeg\") or file.endswith(\"png\"):\n",
    "        im = Image.open(os.path.join(path, file))\n",
    "        # Use Image.LANCZOS instead of Image.ANTIALIAS for downsampling\n",
    "        im_resized = im.resize((mean_width, mean_height), Image.LANCZOS)\n",
    "        im_resized.save(file, 'JPEG', quality=95)\n",
    "        print(f\"{file} is resized\")\n"
   ]
  }
 ],
 "metadata": {
  "kernelspec": {
   "display_name": "venv",
   "language": "python",
   "name": "python3"
  },
  "language_info": {
   "codemirror_mode": {
    "name": "ipython",
    "version": 3
   },
   "file_extension": ".py",
   "mimetype": "text/x-python",
   "name": "python",
   "nbconvert_exporter": "python",
   "pygments_lexer": "ipython3",
   "version": "3.12.0"
  }
 },
 "nbformat": 4,
 "nbformat_minor": 2
}
