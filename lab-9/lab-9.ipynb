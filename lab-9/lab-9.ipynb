{
 "cells": [
  {
   "cell_type": "code",
   "execution_count": 5,
   "metadata": {},
   "outputs": [
    {
     "name": "stdout",
     "output_type": "stream",
     "text": [
      "\n",
      "1st Statement:\n",
      "Overall sentiment dictionary is :  {'neg': 0.175, 'neu': 0.562, 'pos': 0.263, 'compound': 0.5267}\n",
      "Sentence was rated as  17.5 % Negative\n",
      "Sentence was rated as  56.2 % Neutral\n",
      "Sentence was rated as  26.3 % Positive\n",
      "Sentence Overall Rated As Positive\n",
      "\n",
      "2nd Statement:\n"
     ]
    },
    {
     "name": "stdout",
     "output_type": "stream",
     "text": [
      "Overall sentiment dictionary is :  {'neg': 0.0, 'neu': 1.0, 'pos': 0.0, 'compound': 0.0}\n",
      "Sentence was rated as  0.0 % Negative\n",
      "Sentence was rated as  100.0 % Neutral\n",
      "Sentence was rated as  0.0 % Positive\n",
      "Sentence Overall Rated As Neutral\n",
      "\n",
      "3rd Statement:\n",
      "Overall sentiment dictionary is :  {'neg': 0.0, 'neu': 0.508, 'pos': 0.492, 'compound': 0.4404}\n",
      "Sentence was rated as  0.0 % Negative\n",
      "Sentence was rated as  50.8 % Neutral\n",
      "Sentence was rated as  49.2 % Positive\n",
      "Sentence Overall Rated As Positive\n"
     ]
    }
   ],
   "source": [
    "# import SentimentIntensityAnalyzer class from vaderSentiment.vaderSentiment module.\n",
    "from vaderSentiment.vaderSentiment import SentimentIntensityAnalyzer\n",
    "\n",
    "# Function to print sentiments of the sentence.\n",
    "def sentiment_scores(sentence):\n",
    "\n",
    "    # Create a SentimentIntensityAnalyzer object.\n",
    "    sid_obj = SentimentIntensityAnalyzer()\n",
    "\n",
    "    # polarity_scores method of SentimentIntensityAnalyzer object gives a sentiment dictionary.\n",
    "    # which contains pos, neg, neu, and compound scores.\n",
    "    sentiment_dict = sid_obj.polarity_scores(sentence)\n",
    "    \n",
    "    print(\"Overall sentiment dictionary is : \", sentiment_dict)\n",
    "    print(\"Sentence was rated as \", sentiment_dict['neg']*100, \"% Negative\")\n",
    "    print(\"Sentence was rated as \", sentiment_dict['neu']*100, \"% Neutral\")\n",
    "    print(\"Sentence was rated as \", sentiment_dict['pos']*100, \"% Positive\")\n",
    "\n",
    "    print(\"Sentence Overall Rated As\", end=\" \")\n",
    "\n",
    "    # Decide sentiment as positive, negative, or neutral\n",
    "    if sentiment_dict['compound'] >= 0.05 :\n",
    "        print(\"Positive\")\n",
    "    elif sentiment_dict['compound'] <= -0.05 :\n",
    "        print(\"Negative\")\n",
    "    else :\n",
    "        print(\"Neutral\")\n",
    "\n",
    "# Driver code to test the function\n",
    "if __name__ == \"__main__\" :\n",
    "\n",
    "    print(\"\\n1st Statement:\")\n",
    "    sentence = \"Geeks For Geeks is the best portal for computer science engineering students.\"\n",
    "    sentiment_scores(sentence)\n",
    "\n",
    "    print(\"\\n2nd Statement:\")\n",
    "    sentence = \"Study is going on as usual.\"\n",
    "    sentiment_scores(sentence)\n",
    "\n",
    "    print(\"\\n3rd Statement:\")\n",
    "    sentence = \"Today isa good day.\"\n",
    "    sentiment_scores(sentence)\n"
   ]
  }
 ],
 "metadata": {
  "kernelspec": {
   "display_name": "venv",
   "language": "python",
   "name": "python3"
  },
  "language_info": {
   "codemirror_mode": {
    "name": "ipython",
    "version": 3
   },
   "file_extension": ".py",
   "mimetype": "text/x-python",
   "name": "python",
   "nbconvert_exporter": "python",
   "pygments_lexer": "ipython3",
   "version": "3.12.0"
  }
 },
 "nbformat": 4,
 "nbformat_minor": 2
}
